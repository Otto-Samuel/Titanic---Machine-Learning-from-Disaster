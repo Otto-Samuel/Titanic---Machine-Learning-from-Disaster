{
 "cells": [
  {
   "cell_type": "code",
   "execution_count": 5,
   "metadata": {},
   "outputs": [],
   "source": [
    "import pandas as pd\n",
    "import numpy as np\n",
    "import matplotlib.pyplot as plt\n",
    "import seaborn as sns\n",
    "\n",
    "from sklearn import (\n",
    "    ensemble, preprocessing, tree\n",
    ")\n",
    "\n",
    "from sklearn.metrics import(\n",
    "    auc,\n",
    "    confusion_matrix,\n",
    "    roc_auc_score,\n",
    "    roc_curve\n",
    ")\n",
    "\n",
    "from sklearn.model_selection import(\n",
    "    train_test_split,\n",
    "    StratifiedKFold\n",
    ")\n",
    "\n",
    "from yellowbrick.classifier import(\n",
    "    ConfusionMatrix,\n",
    "    ROCAUC\n",
    ")\n",
    "\n",
    "from yellowbrick.model_selection import(\n",
    "    LearningCurve\n",
    ")\n",
    "\n",
    "#import pandas_profiling"
   ]
  },
  {
   "cell_type": "code",
   "execution_count": 6,
   "metadata": {},
   "outputs": [],
   "source": [
    "df_gender_submission = pd.read_csv('build/gender_submission.csv')\n",
    "df_test = pd.read_csv('build/test.csv')\n",
    "df_train = pd.read_csv('build/train.csv')"
   ]
  },
  {
   "cell_type": "code",
   "execution_count": 7,
   "metadata": {},
   "outputs": [
    {
     "data": {
      "text/plain": [
       "Index(['PassengerId', 'Survived', 'Pclass', 'Name', 'Sex', 'Age', 'SibSp',\n",
       "       'Parch', 'Ticket', 'Fare', 'Cabin', 'Embarked'],\n",
       "      dtype='object')"
      ]
     },
     "execution_count": 7,
     "metadata": {},
     "output_type": "execute_result"
    }
   ],
   "source": [
    "df_train.columns"
   ]
  },
  {
   "cell_type": "code",
   "execution_count": 8,
   "metadata": {},
   "outputs": [
    {
     "name": "stdout",
     "output_type": "stream",
     "text": [
      "====================\n",
      "* gender_submission *\n",
      "====================\n",
      "\n",
      "       PassengerId    Survived\n",
      "count   418.000000  418.000000\n",
      "mean   1100.500000    0.363636\n",
      "std     120.810458    0.481622\n",
      "min     892.000000    0.000000\n",
      "25%     996.250000    0.000000\n",
      "50%    1100.500000    0.000000\n",
      "75%    1204.750000    1.000000\n",
      "max    1309.000000    1.000000\n",
      "\n",
      "0\n",
      "====================\n",
      "\t* test *\n",
      "====================\n",
      "\n",
      "       PassengerId      Pclass         Age       SibSp       Parch        Fare\n",
      "count   418.000000  418.000000  332.000000  418.000000  418.000000  417.000000\n",
      "mean   1100.500000    2.265550   30.272590    0.447368    0.392344   35.627188\n",
      "std     120.810458    0.841838   14.181209    0.896760    0.981429   55.907576\n",
      "min     892.000000    1.000000    0.170000    0.000000    0.000000    0.000000\n",
      "25%     996.250000    1.000000   21.000000    0.000000    0.000000    7.895800\n",
      "50%    1100.500000    3.000000   27.000000    0.000000    0.000000   14.454200\n",
      "75%    1204.750000    3.000000   39.000000    1.000000    0.000000   31.500000\n",
      "max    1309.000000    3.000000   76.000000    8.000000    9.000000  512.329200\n",
      "\n",
      "====================\n",
      "\t* train *\n",
      "====================\n",
      "\n",
      "<bound method NDFrame.describe of      PassengerId  Survived  Pclass  ...     Fare Cabin  Embarked\n",
      "0              1         0       3  ...   7.2500   NaN         S\n",
      "1              2         1       1  ...  71.2833   C85         C\n",
      "2              3         1       3  ...   7.9250   NaN         S\n",
      "3              4         1       1  ...  53.1000  C123         S\n",
      "4              5         0       3  ...   8.0500   NaN         S\n",
      "..           ...       ...     ...  ...      ...   ...       ...\n",
      "886          887         0       2  ...  13.0000   NaN         S\n",
      "887          888         1       1  ...  30.0000   B42         S\n",
      "888          889         0       3  ...  23.4500   NaN         S\n",
      "889          890         1       1  ...  30.0000  C148         C\n",
      "890          891         0       3  ...   7.7500   NaN         Q\n",
      "\n",
      "[891 rows x 12 columns]>\n",
      "\n"
     ]
    }
   ],
   "source": [
    "print(\"====================\\n* gender_submission *\\n====================\\n\")\n",
    "print(df_gender_submission.describe())\n",
    "print()\n",
    "print(df_gender_submission['PassengerId'].isnull().sum())\n",
    "\n",
    "print(\"====================\\n\\t* test *\\n====================\\n\")\n",
    "print(df_test.describe())\n",
    "print()\n",
    "# print(df_gender_submission['PassengerId'].isnull().sum())\n",
    "print(\"====================\\n\\t* train *\\n====================\\n\")\n",
    "print(df_train.describe)\n",
    "print()"
   ]
  },
  {
   "cell_type": "code",
   "execution_count": 9,
   "metadata": {},
   "outputs": [],
   "source": [
    "from sklearn.ensemble import RandomForestClassifier"
   ]
  },
  {
   "cell_type": "code",
   "execution_count": 10,
   "metadata": {},
   "outputs": [],
   "source": [
    "modelo = RandomForestClassifier(n_estimators=100, n_jobs=-1, random_state=0)"
   ]
  },
  {
   "cell_type": "code",
   "execution_count": 11,
   "metadata": {},
   "outputs": [
    {
     "data": {
      "text/plain": [
       "Sex\n",
       "male      577\n",
       "female    314\n",
       "Name: count, dtype: int64"
      ]
     },
     "execution_count": 11,
     "metadata": {},
     "output_type": "execute_result"
    }
   ],
   "source": [
    "df_train['Sex'].value_counts()"
   ]
  },
  {
   "cell_type": "code",
   "execution_count": null,
   "metadata": {},
   "outputs": [],
   "source": [
    "def transformar_sexo(valor):\n",
    "    if valor == \"female\":\n",
    "        return 1;\n",
    "    else:\n",
    "        return 0;\n",
    "# o .map() serve para passar em cada linha de uma determinada  coluna realizando uma acao de substituicao\n",
    "df_train['Sexo_binario'] = df_train['Sex'].map(transformar_sexo)"
   ]
  },
  {
   "cell_type": "code",
   "execution_count": 14,
   "metadata": {},
   "outputs": [
    {
     "data": {
      "text/plain": [
       "Sexo_binario\n",
       "0    577\n",
       "1    314\n",
       "Name: count, dtype: int64"
      ]
     },
     "execution_count": 14,
     "metadata": {},
     "output_type": "execute_result"
    }
   ],
   "source": [
    "df_train['Sexo_binario'].value_counts()"
   ]
  }
 ],
 "metadata": {
  "kernelspec": {
   "display_name": "Python 3",
   "language": "python",
   "name": "python3"
  },
  "language_info": {
   "codemirror_mode": {
    "name": "ipython",
    "version": 3
   },
   "file_extension": ".py",
   "mimetype": "text/x-python",
   "name": "python",
   "nbconvert_exporter": "python",
   "pygments_lexer": "ipython3",
   "version": "3.13.6"
  }
 },
 "nbformat": 4,
 "nbformat_minor": 2
}
